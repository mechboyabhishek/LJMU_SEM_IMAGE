{
 "cells": [
  {
   "cell_type": "code",
   "execution_count": 1,
   "metadata": {},
   "outputs": [],
   "source": [
    "import glob\n",
    "import cv2\n",
    "import pandas as pd\n",
    "from skimage import io\n",
    "from skimage import transform as trf\n",
    "from scipy import ndimage\n",
    "from PIL import Image\n",
    "import os\n",
    "import matplotlib.pyplot as plt\n",
    "import random\n",
    "import numpy as np\n",
    "import imutils\n",
    "import json"
   ]
  },
  {
   "cell_type": "code",
   "execution_count": 2,
   "metadata": {},
   "outputs": [],
   "source": [
    "def plot_image(images, captions=None, cmap='gray' ):\n",
    "    f, axes = plt.subplots(1, len(images), sharey=True,figsize=(75,50))\n",
    "    f.set_figwidth(15)\n",
    "    for ax,image in zip(axes, images):\n",
    "        ax.imshow(image, cmap)"
   ]
  },
  {
   "cell_type": "code",
   "execution_count": 3,
   "metadata": {},
   "outputs": [
    {
     "data": {
      "text/html": [
       "<div>\n",
       "<style scoped>\n",
       "    .dataframe tbody tr th:only-of-type {\n",
       "        vertical-align: middle;\n",
       "    }\n",
       "\n",
       "    .dataframe tbody tr th {\n",
       "        vertical-align: top;\n",
       "    }\n",
       "\n",
       "    .dataframe thead th {\n",
       "        text-align: right;\n",
       "    }\n",
       "</style>\n",
       "<table border=\"1\" class=\"dataframe\">\n",
       "  <thead>\n",
       "    <tr style=\"text-align: right;\">\n",
       "      <th></th>\n",
       "      <th>filename</th>\n",
       "      <th>file_size</th>\n",
       "      <th>file_attributes</th>\n",
       "      <th>region_count</th>\n",
       "      <th>region_id</th>\n",
       "      <th>region_shape_attributes</th>\n",
       "      <th>region_attributes</th>\n",
       "    </tr>\n",
       "  </thead>\n",
       "  <tbody>\n",
       "    <tr>\n",
       "      <th>0</th>\n",
       "      <td>0001.jpg</td>\n",
       "      <td>2912</td>\n",
       "      <td>{}</td>\n",
       "      <td>1</td>\n",
       "      <td>0</td>\n",
       "      <td>{\"name\":\"polygon\",\"all_points_x\":[16,19,26,29,...</td>\n",
       "      <td>{\"particle\":\"\"}</td>\n",
       "    </tr>\n",
       "    <tr>\n",
       "      <th>1</th>\n",
       "      <td>0002.jpg</td>\n",
       "      <td>3546</td>\n",
       "      <td>{}</td>\n",
       "      <td>1</td>\n",
       "      <td>0</td>\n",
       "      <td>{\"name\":\"polygon\",\"all_points_x\":[10,13,15,17,...</td>\n",
       "      <td>{\"particle\":\"\"}</td>\n",
       "    </tr>\n",
       "    <tr>\n",
       "      <th>2</th>\n",
       "      <td>0003.jpg</td>\n",
       "      <td>5202</td>\n",
       "      <td>{}</td>\n",
       "      <td>1</td>\n",
       "      <td>0</td>\n",
       "      <td>{\"name\":\"polygon\",\"all_points_x\":[25,29,30,33,...</td>\n",
       "      <td>{\"particle\":\"\"}</td>\n",
       "    </tr>\n",
       "    <tr>\n",
       "      <th>3</th>\n",
       "      <td>0004.jpg</td>\n",
       "      <td>3382</td>\n",
       "      <td>{}</td>\n",
       "      <td>1</td>\n",
       "      <td>0</td>\n",
       "      <td>{\"name\":\"polygon\",\"all_points_x\":[12,15,19,23,...</td>\n",
       "      <td>{\"particle\":\"\"}</td>\n",
       "    </tr>\n",
       "    <tr>\n",
       "      <th>4</th>\n",
       "      <td>0005.jpg</td>\n",
       "      <td>4289</td>\n",
       "      <td>{}</td>\n",
       "      <td>1</td>\n",
       "      <td>0</td>\n",
       "      <td>{\"name\":\"polygon\",\"all_points_x\":[2,5,7,9,10,1...</td>\n",
       "      <td>{\"particle\":\"\"}</td>\n",
       "    </tr>\n",
       "  </tbody>\n",
       "</table>\n",
       "</div>"
      ],
      "text/plain": [
       "   filename  file_size file_attributes  region_count  region_id  \\\n",
       "0  0001.jpg       2912              {}             1          0   \n",
       "1  0002.jpg       3546              {}             1          0   \n",
       "2  0003.jpg       5202              {}             1          0   \n",
       "3  0004.jpg       3382              {}             1          0   \n",
       "4  0005.jpg       4289              {}             1          0   \n",
       "\n",
       "                             region_shape_attributes region_attributes  \n",
       "0  {\"name\":\"polygon\",\"all_points_x\":[16,19,26,29,...   {\"particle\":\"\"}  \n",
       "1  {\"name\":\"polygon\",\"all_points_x\":[10,13,15,17,...   {\"particle\":\"\"}  \n",
       "2  {\"name\":\"polygon\",\"all_points_x\":[25,29,30,33,...   {\"particle\":\"\"}  \n",
       "3  {\"name\":\"polygon\",\"all_points_x\":[12,15,19,23,...   {\"particle\":\"\"}  \n",
       "4  {\"name\":\"polygon\",\"all_points_x\":[2,5,7,9,10,1...   {\"particle\":\"\"}  "
      ]
     },
     "execution_count": 3,
     "metadata": {},
     "output_type": "execute_result"
    }
   ],
   "source": [
    "#Read CSV file of annotation mask\n",
    "df_csv=pd.read_csv('./data/via_export_csv.csv')\n",
    "df_csv.head()\n",
    "    \n",
    "#df_csv.region_shape_attributes[0]\n"
   ]
  },
  {
   "cell_type": "code",
   "execution_count": 4,
   "metadata": {},
   "outputs": [
    {
     "data": {
      "text/plain": [
       "dict"
      ]
     },
     "execution_count": 4,
     "metadata": {},
     "output_type": "execute_result"
    }
   ],
   "source": [
    "idx=df_csv[df_csv.filename=='0003.jpg'].index.item()\n",
    "idx\n",
    "my_attr=json.loads(df_csv.region_shape_attributes[idx])\n",
    "type(my_attr)"
   ]
  },
  {
   "cell_type": "code",
   "execution_count": 5,
   "metadata": {},
   "outputs": [],
   "source": [
    "def getXYAttributes(image_fileName):\n",
    "    #getIndexrowinDataframe\n",
    "    idx=df_csv[df_csv.filename==image_fileName].index.item()\n",
    "    region_shape_dictionary=json.loads(df_csv.region_shape_attributes[idx])\n",
    "    XY_List=[]\n",
    "    for x,y in zip(region_shape_dictionary.get('all_points_x'),region_shape_dictionary.get('all_points_y')):\n",
    "        XY_List.append([x,y])\n",
    "    return XY_List"
   ]
  },
  {
   "cell_type": "code",
   "execution_count": 6,
   "metadata": {},
   "outputs": [
    {
     "data": {
      "text/plain": [
       "['./data\\\\0001.jpg', './data\\\\0002.jpg', './data\\\\0003.jpg']"
      ]
     },
     "execution_count": 6,
     "metadata": {},
     "output_type": "execute_result"
    }
   ],
   "source": [
    "data_set_image_path='./data'\n",
    "image_paths=glob.glob(os.path.join(data_set_image_path,\"\",\"*.JPG\"))\n",
    "image_paths[:3]"
   ]
  },
  {
   "cell_type": "code",
   "execution_count": 7,
   "metadata": {},
   "outputs": [
    {
     "data": {
      "text/plain": [
       "<matplotlib.image.AxesImage at 0x1f5d8398588>"
      ]
     },
     "execution_count": 7,
     "metadata": {},
     "output_type": "execute_result"
    },
    {
     "data": {
      "image/png": "[encoded data removed]",
      "text/plain": [
       "<Figure size 432x288 with 1 Axes>"
      ]
     },
     "metadata": {
      "needs_background": "light"
     },
     "output_type": "display_data"
    }
   ],
   "source": [
    "image_black=np.zeros((480,640,3),dtype=np.int32)\n",
    "image_black=image_black#+80\n",
    "#plt.imshow(image_raw)\n",
    "cv2.imwrite('blind_image.jpg',image_black)\n",
    "\n",
    "\n",
    "image_raw=cv2.imread('blind_image.jpg')\n",
    "plt.imshow(image_raw)\n",
    "\n"
   ]
  },
  {
   "cell_type": "code",
   "execution_count": 8,
   "metadata": {},
   "outputs": [
    {
     "name": "stdout",
     "output_type": "stream",
     "text": [
      "filename is :0011.jpg\n"
     ]
    }
   ],
   "source": [
    "file_idx=10\n",
    "file_name=os.path.basename(image_paths[file_idx])\n",
    "print('filename is :{0}'.format(file_name))"
   ]
  },
  {
   "cell_type": "code",
   "execution_count": 9,
   "metadata": {},
   "outputs": [
    {
     "data": {
      "text/plain": [
       "<matplotlib.image.AxesImage at 0x1f5d8440588>"
      ]
     },
     "execution_count": 9,
     "metadata": {},
     "output_type": "execute_result"
    },
    {
     "data": {
      "image/png": "[encoded data removed]",
      "text/plain": [
       "<Figure size 432x288 with 1 Axes>"
      ]
     },
     "metadata": {
      "needs_background": "light"
     },
     "output_type": "display_data"
    }
   ],
   "source": [
    "img_particle=cv2.imread(image_paths[file_idx])\n",
    "plt.imshow(img_particle)\n"
   ]
  },
  {
   "cell_type": "code",
   "execution_count": 10,
   "metadata": {},
   "outputs": [
    {
     "data": {
      "text/plain": [
       "<matplotlib.image.AxesImage at 0x1f5d84aa748>"
      ]
     },
     "execution_count": 10,
     "metadata": {},
     "output_type": "execute_result"
    },
    {
     "data": {
      "image/png": "[encoded data removed]",
      "text/plain": [
       "<Figure size 432x288 with 1 Axes>"
      ]
     },
     "metadata": {
      "needs_background": "light"
     },
     "output_type": "display_data"
    }
   ],
   "source": [
    "XY_property=getXYAttributes(file_name)\n",
    "\n",
    "src_mask=np.zeros(img_particle.shape,img_particle.dtype)\n",
    "\n",
    "poly=np.array([XY_property])\n",
    "cv2.fillPoly(src_mask, [poly], (255, 255, 255))\n",
    "\n",
    "src=img_particle\n",
    "dst=image_raw\n",
    "center=(150,150)\n",
    "output = cv2.seamlessClone(src, dst, src_mask, center,0, cv2.NORMAL_CLONE) # Very Important code line\n",
    "plt.imshow(output)\n",
    "\n"
   ]
  },
  {
   "cell_type": "code",
   "execution_count": 11,
   "metadata": {},
   "outputs": [],
   "source": [
    "#poly"
   ]
  },
  {
   "cell_type": "code",
   "execution_count": 12,
   "metadata": {},
   "outputs": [],
   "source": [
    "#help(cv2.seamlessClone)\n",
    "#This section will create methods to generate the synthetic images and annotation\n",
    "np.random.seed(213)"
   ]
  },
  {
   "cell_type": "code",
   "execution_count": 13,
   "metadata": {},
   "outputs": [],
   "source": [
    "#This is the Method to Randomly select n particle images and return corresponding image list along with its property\n",
    "#Input1 = number of images (num_images)\n",
    "#input2= list of image file name\n",
    "#input3= duplicate allowed (duplicate particle is allowed or not)\n",
    "#output1=List of images\n",
    "#output2=list of tuples of x,y coordinates\n",
    "\n",
    "def getImageDetails(num_images,list_image_filename,background_image_shape,replace=False):\n",
    "    #Create list of random images\n",
    "    \n",
    "    image_files=np.random.choice(list_image_filename,num_images,replace=replace)\n",
    "    \n",
    "    #create the image list\n",
    "    image_list=[]\n",
    "    for count in range(0,num_images,1):\n",
    "        img=cv2.imread(os.path.join('./data','',image_files[count]))\n",
    "        XY_property=getXYAttributes(image_files[count])\n",
    "        #poly=np.array([XY_property])\n",
    "        center_paste=getPasteLocation(img,background_image_shape)\n",
    "        #image_list.append([img,poly,center_paste])\n",
    "        image_list.append([img,XY_property,center_paste])\n",
    "        \n",
    "    return image_list\n",
    "    "
   ]
  },
  {
   "cell_type": "code",
   "execution_count": 14,
   "metadata": {},
   "outputs": [],
   "source": [
    "#Getting the Probable locations(points) in synthetic image where particle can be pasted\n",
    "# Particle have to have suffiecient distance margin from boundaries else seamlessclone() method fails\n",
    "\n",
    "def getPasteLocation(particle_img,background_image_shape):\n",
    "    \n",
    "    background_width,background_height=background_image_shape[1],background_image_shape[0]\n",
    "    return_list=[] # Append with [image,XY center] , center should be filled with tuples(X,Y)\n",
    "    \n",
    "    particle_width,particle_height=particle_img.shape[1],particle_img.shape[0]\n",
    "    #Range for width with allowance of 1 pixel\n",
    "    width_min=int(particle_width/2)+1\n",
    "    width_max=background_width-int(particle_width/2)-1\n",
    "        \n",
    "    #Range for height with allowance of 1 pixel\n",
    "    height_min=int(particle_height/2)+1 \n",
    "    height_max=background_height-int(particle_height/2)-1\n",
    "            \n",
    "    choice_X=random.randrange(width_min,width_max)\n",
    "    choice_Y=random.randrange(height_min,height_max)\n",
    "            \n",
    "    return (choice_X,choice_Y)               \n",
    "        "
   ]
  },
  {
   "cell_type": "code",
   "execution_count": 15,
   "metadata": {},
   "outputs": [],
   "source": [
    "#Drawing boxes around the particle\n",
    "def getBoundingBox(poly_list,relative_center):\n",
    "    x_list=[]\n",
    "    y_list=[]\n",
    "    \n",
    "    for points in poly_list:\n",
    "        x_list.append(points[0])\n",
    "        y_list.append(points[1])\n",
    "    x_min=min(x_list)\n",
    "    y_min=min(y_list)\n",
    "    \n",
    "    x_max=max(x_list)\n",
    "    y_max=max(y_list)\n",
    "    \n",
    "    width=x_max-x_min\n",
    "    height=y_max-y_min\n",
    "    \n",
    "    #Calculating coordinates relative to background image frame\n",
    "    X_PARTICLE_CENTER=relative_center[0]\n",
    "    Y_PARTICLE_CENTER=relative_center[1]\n",
    "    \n",
    "    X_MIN_RELATIVE=relative_center[0]-int(width/2)\n",
    "    X_MAX_RELATIVE=relative_center[0]+int(width/2)\n",
    "    \n",
    "    Y_MIN_RELATIVE=relative_center[1]-int(height/2)\n",
    "    Y_MAX_RELATIVE=relative_center[1]+int(height/2)\n",
    "    \n",
    "    return[(X_MIN_RELATIVE,Y_MIN_RELATIVE),(X_MAX_RELATIVE,Y_MAX_RELATIVE)]"
   ]
  },
  {
   "cell_type": "code",
   "execution_count": 16,
   "metadata": {},
   "outputs": [],
   "source": [
    "def writeAnnotation(path,filename,bounding_coordinate_list,class_name='particle'):\n",
    "    \n",
    "    write_list=[]\n",
    "    for bbox in bounding_coordinate_list:\n",
    "        x_min=bbox[0][0]\n",
    "        y_min=bbox[0][1]\n",
    "        \n",
    "        x_max=bbox[1][0]\n",
    "        y_max=bbox[1][1]\n",
    "        \n",
    "        write_list.append([filename,x_min,y_min,x_max,y_max,class_name])\n",
    "        \n",
    "    \n",
    "    df_to_write=pd.DataFrame(write_list)\n",
    "    path_to_save=os.path.join(path,'',str.split(filename,'.')[0]+'.csv')\n",
    "    df_to_write.to_csv(path_to_save,header=None,index=None,sep=',')\n",
    "        \n",
    "    "
   ]
  },
  {
   "cell_type": "code",
   "execution_count": 17,
   "metadata": {},
   "outputs": [
    {
     "data": {
      "text/html": [
       "<div>\n",
       "<style scoped>\n",
       "    .dataframe tbody tr th:only-of-type {\n",
       "        vertical-align: middle;\n",
       "    }\n",
       "\n",
       "    .dataframe tbody tr th {\n",
       "        vertical-align: top;\n",
       "    }\n",
       "\n",
       "    .dataframe thead th {\n",
       "        text-align: right;\n",
       "    }\n",
       "</style>\n",
       "<table border=\"1\" class=\"dataframe\">\n",
       "  <thead>\n",
       "    <tr style=\"text-align: right;\">\n",
       "      <th></th>\n",
       "      <th>0</th>\n",
       "      <th>1</th>\n",
       "    </tr>\n",
       "  </thead>\n",
       "  <tbody>\n",
       "    <tr>\n",
       "      <th>0</th>\n",
       "      <td>abhishek</td>\n",
       "      <td>megha</td>\n",
       "    </tr>\n",
       "    <tr>\n",
       "      <th>1</th>\n",
       "      <td>Polly</td>\n",
       "      <td>Randhir</td>\n",
       "    </tr>\n",
       "  </tbody>\n",
       "</table>\n",
       "</div>"
      ],
      "text/plain": [
       "          0        1\n",
       "0  abhishek    megha\n",
       "1     Polly  Randhir"
      ]
     },
     "execution_count": 17,
     "metadata": {},
     "output_type": "execute_result"
    }
   ],
   "source": [
    "sample_list=[]\n",
    "sample_list.append(['abhishek','megha'])\n",
    "sample_list.append(['Polly','Randhir'])\n",
    "df=pd.DataFrame(sample_list)\n",
    "df"
   ]
  },
  {
   "cell_type": "code",
   "execution_count": 18,
   "metadata": {},
   "outputs": [
    {
     "data": {
      "text/plain": [
       "<matplotlib.image.AxesImage at 0x1f5d852b198>"
      ]
     },
     "execution_count": 18,
     "metadata": {},
     "output_type": "execute_result"
    },
    {
     "data": {
      "image/png": "[encoded data removed]",
      "text/plain": [
       "<Figure size 432x288 with 1 Axes>"
      ]
     },
     "metadata": {
      "needs_background": "light"
     },
     "output_type": "display_data"
    }
   ],
   "source": [
    "#Sample to test if getImageDetails() method is working as expected\n",
    "# It is taking image and its polygon points in return \n",
    "#These polygon point is required to create mask when we paste the particle in Synthetic image\n",
    "#If we keep refreshing this cell we will get new images\n",
    "flls=list(df_csv.filename)\n",
    "img_fl=getImageDetails(10,flls,image_raw.shape,True)\n",
    "img_test=img_fl[0][0]\n",
    "XY_polly=np.array([img_fl[0][1]])\n",
    "#XY_polly\n",
    "img_test=cv2.polylines(img_test,[XY_polly],True,(0,0,255))\n",
    "plt.imshow(img_test)"
   ]
  },
  {
   "cell_type": "code",
   "execution_count": 19,
   "metadata": {},
   "outputs": [
    {
     "data": {
      "text/plain": [
       "<matplotlib.image.AxesImage at 0x1f5d858a908>"
      ]
     },
     "execution_count": 19,
     "metadata": {},
     "output_type": "execute_result"
    },
    {
     "data": {
      "image/png": "[encoded data removed]",
      "text/plain": [
       "<Figure size 432x288 with 1 Axes>"
      ]
     },
     "metadata": {
      "needs_background": "light"
     },
     "output_type": "display_data"
    }
   ],
   "source": [
    "#Testing the above codes by generating 1 image with 30 particles in it\n",
    "particle_file_name=list(df_csv.filename)\n",
    "particle_details=getImageDetails(8,particle_file_name,image_raw.shape,replace=True)\n",
    "#len(particle_details)\n",
    "#Creating list of images\n",
    "#particle_images=[]\n",
    "\n",
    "#Initializing the outputImage\n",
    "output=image_raw.copy() \n",
    "\n",
    "\n",
    "\n",
    "for detail in particle_details:\n",
    "    \n",
    "    particle_image=detail[0]\n",
    "    particle_poly=detail[1]\n",
    "    particle_center=detail[2]\n",
    "    \n",
    "    src_mask=np.zeros(particle_image.shape,particle_image.dtype)\n",
    "    #print(type(src_mask))\n",
    "   \n",
    "    \n",
    "    poly=np.array([particle_poly])\n",
    "   # print(poly)\n",
    "    #FillingMask\n",
    "    cv2.fillPoly(src_mask, [poly], (255, 255, 255))\n",
    "    \n",
    "    src=particle_image\n",
    "    dst=output\n",
    "    center=particle_center\n",
    "    output = cv2.seamlessClone(src, dst, src_mask, center,0, cv2.NORMAL_CLONE) # Very Important code line\n",
    "    output=cv2.GaussianBlur(output,(3,3),0)\n",
    "    boundingbox=getBoundingBox(particle_poly,center)\n",
    "    #output=cv2.rectangle(output,(boundingbox[0][0],boundingbox[0][1]),(boundingbox[1][0],boundingbox[1][1]),(255,0,0),2)\n",
    "    \n",
    " \n",
    "    \n",
    "plt.imshow(output)\n",
    "\n",
    "\n",
    "#plt.imshow(pp)\n",
    "\n",
    "\n",
    "\n",
    "    \n",
    "    "
   ]
  },
  {
   "cell_type": "code",
   "execution_count": 22,
   "metadata": {},
   "outputs": [],
   "source": [
    "#Batch Saving File with annotation\n",
    "save_path_image=os.path.join('./processed','image_test','')\n",
    "save_path_label=os.path.join('./processed','label','')\n",
    "\n",
    "\n",
    "\n",
    "#Initialize the variables\n",
    "num_sample=50\n",
    "particle_file_name=list(df_csv.filename)\n",
    "\n",
    "\n",
    "\n",
    "\n",
    "for num in range(num_sample):\n",
    "    #Initializing the outputImage\n",
    "    output=image_raw.copy() \n",
    "    #Initializing number of Particle Required and getting random particle details\n",
    "    num_particle=random.randrange(8,14)\n",
    "    particle_details=getImageDetails(num_particle,particle_file_name,image_raw.shape,replace=True)\n",
    "    \n",
    "    #Initializing bounding box list\n",
    "    bbox_list=[]\n",
    "    \n",
    "    for detail in particle_details:\n",
    "        particle_image=detail[0]\n",
    "        particle_poly=detail[1]\n",
    "        particle_center=detail[2]\n",
    "        \n",
    "\n",
    "        file_to_save=str(num)+'.jpg'\n",
    "       \n",
    "        \n",
    "    \n",
    "        src_mask=np.zeros(particle_image.shape,particle_image.dtype)\n",
    "        poly=np.array([particle_poly])\n",
    "\n",
    "        cv2.fillPoly(src_mask, [poly], (255, 255, 255))\n",
    "    \n",
    "        src=particle_image\n",
    "        dst=output\n",
    "        center=particle_center\n",
    "        output = cv2.seamlessClone(src, dst, src_mask, center,0, cv2.NORMAL_CLONE) # Very Important code line\n",
    "        output=cv2.GaussianBlur(output,(3,3),0)\n",
    "        boundingbox=getBoundingBox(particle_poly,particle_center)\n",
    "        bbox_list.append(boundingbox)\n",
    "     \n",
    "        \n",
    "        \n",
    "    #Save Annotation file    \n",
    "    writeAnnotation(save_path_label,bounding_coordinate_list=bbox_list,filename=file_to_save,class_name='particle')\n",
    "    #Save Image\n",
    "    cv2.imwrite(os.path.join(save_path_image,'',file_to_save),output)\n",
    "    \n",
    "    #print('number of particles:{0}'.format(num_particle))\n",
    "        #output=cv2.rectangle(output,(boundingbox[0][0],boundingbox[0][1]),(boundingbox[1][0],boundingbox[1][1]),(255,0,0),2)\n",
    "        \n",
    "        \n",
    "    \n"
   ]
  },
  {
   "cell_type": "code",
   "execution_count": 24,
   "metadata": {},
   "outputs": [
    {
     "data": {
      "image/png": "[encoded data removed]",
      "text/plain": [
       "<Figure size 1080x3600 with 3 Axes>"
      ]
     },
     "metadata": {
      "needs_background": "light"
     },
     "output_type": "display_data"
    }
   ],
   "source": [
    "save_path_image=os.path.join('./processed','image','')\n",
    "save_path_label=os.path.join('./processed','label','')\n",
    "\n",
    "image_list=[]\n",
    "for idx in range(3):\n",
    "    img_test=cv2.imread(os.path.join(save_path_image,'',str(idx)+'.jpg'))\n",
    "    df=pd.read_csv(os.path.join(save_path_label,'',str(idx)+'.csv'),header=None)\n",
    "    x_min=df[1]\n",
    "    y_min=df[2]\n",
    "    x_max=df[3]\n",
    "    y_max=df[4]\n",
    "    \n",
    "    for count in range(len(x_min)):\n",
    "        img_test=cv2.rectangle(img_test,(x_min[count],y_min[count]),(x_max[count],y_max[count]),(255,0,0),2)\n",
    "    image_list.append(img_test)\n",
    "    \n",
    "\n",
    "\n",
    "#plt.imshow(img_test)\n",
    "#print(df)\n",
    "plot_image(image_list)\n"
   ]
  }
 ],
 "metadata": {
  "kernelspec": {
   "display_name": "Python 3",
   "language": "python",
   "name": "python3"
  },
  "language_info": {
   "codemirror_mode": {
    "name": "ipython",
    "version": 3
   },
   "file_extension": ".py",
   "mimetype": "text/x-python",
   "name": "python",
   "nbconvert_exporter": "python",
   "pygments_lexer": "ipython3",
   "version": "3.7.3"
  }
 },
 "nbformat": 4,
 "nbformat_minor": 2
}
